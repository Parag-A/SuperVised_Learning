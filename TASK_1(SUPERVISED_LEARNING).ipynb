{
  "nbformat": 4,
  "nbformat_minor": 0,
  "metadata": {
    "colab": {
      "name": "TASK_1(SUPERVISED LEARNING).ipynb",
      "provenance": [],
      "toc_visible": true,
      "authorship_tag": "ABX9TyP4c/VEyhTSrFkh4c54yDvs",
      "include_colab_link": true
    },
    "kernelspec": {
      "name": "python3",
      "display_name": "Python 3"
    }
  },
  "cells": [
    {
      "cell_type": "markdown",
      "metadata": {
        "id": "view-in-github",
        "colab_type": "text"
      },
      "source": [
        "<a href=\"https://colab.research.google.com/github/parag9921/Data-Science/blob/main/TASK_1(SUPERVISED_LEARNING).ipynb\" target=\"_parent\"><img src=\"https://colab.research.google.com/assets/colab-badge.svg\" alt=\"Open In Colab\"/></a>"
      ]
    },
    {
      "cell_type": "markdown",
      "metadata": {
        "id": "JSmdosdH5bGs"
      },
      "source": [
        "### Author: **PARAG** **AGRAWAL**"
      ]
    },
    {
      "cell_type": "markdown",
      "metadata": {
        "id": "Gj33dvW65qvU"
      },
      "source": [
        "### **Task_1 : Prediction using Supervised ML**"
      ]
    },
    {
      "cell_type": "markdown",
      "metadata": {
        "id": "jLkPRkTU51Re"
      },
      "source": [
        "DATA SCIENCE AND BUSSINESS ANALYTICS INTERN"
      ]
    },
    {
      "cell_type": "markdown",
      "metadata": {
        "id": "MucyzFDD6xSU"
      },
      "source": [
        "**Importing Libraries:**"
      ]
    },
    {
      "cell_type": "code",
      "metadata": {
        "id": "nmiZo6ME3bNg"
      },
      "source": [
        "# Importing all libraries required in this notebook\r\n",
        "import pandas as pd\r\n",
        "import numpy as np  \r\n",
        "%matplotlib inline\r\n",
        "import matplotlib.pyplot as plt  "
      ],
      "execution_count": 85,
      "outputs": []
    },
    {
      "cell_type": "markdown",
      "metadata": {
        "id": "f4Sxz2MT7Fmv"
      },
      "source": [
        "**Loading Dataset :**"
      ]
    },
    {
      "cell_type": "code",
      "metadata": {
        "id": "KhiMhWsg3mKg"
      },
      "source": [
        "\r\n",
        "df = pd.read_csv(\"http://bit.ly/w-data\")"
      ],
      "execution_count": 86,
      "outputs": []
    },
    {
      "cell_type": "code",
      "metadata": {
        "colab": {
          "base_uri": "https://localhost:8080/",
          "height": 363
        },
        "id": "n5d3SNKa7iK8",
        "outputId": "42f03532-4109-4a9d-c2e7-26186a9427f5"
      },
      "source": [
        "df_data.head(10)"
      ],
      "execution_count": 87,
      "outputs": [
        {
          "output_type": "execute_result",
          "data": {
            "text/html": [
              "<div>\n",
              "<style scoped>\n",
              "    .dataframe tbody tr th:only-of-type {\n",
              "        vertical-align: middle;\n",
              "    }\n",
              "\n",
              "    .dataframe tbody tr th {\n",
              "        vertical-align: top;\n",
              "    }\n",
              "\n",
              "    .dataframe thead th {\n",
              "        text-align: right;\n",
              "    }\n",
              "</style>\n",
              "<table border=\"1\" class=\"dataframe\">\n",
              "  <thead>\n",
              "    <tr style=\"text-align: right;\">\n",
              "      <th></th>\n",
              "      <th>Hours</th>\n",
              "      <th>Scores</th>\n",
              "    </tr>\n",
              "  </thead>\n",
              "  <tbody>\n",
              "    <tr>\n",
              "      <th>0</th>\n",
              "      <td>2.5</td>\n",
              "      <td>21</td>\n",
              "    </tr>\n",
              "    <tr>\n",
              "      <th>1</th>\n",
              "      <td>5.1</td>\n",
              "      <td>47</td>\n",
              "    </tr>\n",
              "    <tr>\n",
              "      <th>2</th>\n",
              "      <td>3.2</td>\n",
              "      <td>27</td>\n",
              "    </tr>\n",
              "    <tr>\n",
              "      <th>3</th>\n",
              "      <td>8.5</td>\n",
              "      <td>75</td>\n",
              "    </tr>\n",
              "    <tr>\n",
              "      <th>4</th>\n",
              "      <td>3.5</td>\n",
              "      <td>30</td>\n",
              "    </tr>\n",
              "    <tr>\n",
              "      <th>5</th>\n",
              "      <td>1.5</td>\n",
              "      <td>20</td>\n",
              "    </tr>\n",
              "    <tr>\n",
              "      <th>6</th>\n",
              "      <td>9.2</td>\n",
              "      <td>88</td>\n",
              "    </tr>\n",
              "    <tr>\n",
              "      <th>7</th>\n",
              "      <td>5.5</td>\n",
              "      <td>60</td>\n",
              "    </tr>\n",
              "    <tr>\n",
              "      <th>8</th>\n",
              "      <td>8.3</td>\n",
              "      <td>81</td>\n",
              "    </tr>\n",
              "    <tr>\n",
              "      <th>9</th>\n",
              "      <td>2.7</td>\n",
              "      <td>25</td>\n",
              "    </tr>\n",
              "  </tbody>\n",
              "</table>\n",
              "</div>"
            ],
            "text/plain": [
              "   Hours  Scores\n",
              "0    2.5      21\n",
              "1    5.1      47\n",
              "2    3.2      27\n",
              "3    8.5      75\n",
              "4    3.5      30\n",
              "5    1.5      20\n",
              "6    9.2      88\n",
              "7    5.5      60\n",
              "8    8.3      81\n",
              "9    2.7      25"
            ]
          },
          "metadata": {
            "tags": []
          },
          "execution_count": 87
        }
      ]
    },
    {
      "cell_type": "markdown",
      "metadata": {
        "id": "i4MMWJIh8PBb"
      },
      "source": [
        "**Plotting the distribution of scores :**"
      ]
    },
    {
      "cell_type": "code",
      "metadata": {
        "colab": {
          "base_uri": "https://localhost:8080/",
          "height": 295
        },
        "id": "HQu-lQkl8tmd",
        "outputId": "af8dab96-0169-495f-d686-b2e6ed26005d"
      },
      "source": [
        "plt.scatter(df['Hours'],df['Scores'],color = 'red') \r\n",
        "plt.title('Hours vs Percentage')  \r\n",
        "plt.xlabel('Hours Studied')  \r\n",
        "plt.ylabel('Percentage Score')  \r\n",
        "plt.show()"
      ],
      "execution_count": 89,
      "outputs": [
        {
          "output_type": "display_data",
          "data": {
            "image/png": "[encoded data removed]",
            "text/plain": [
              "<Figure size 432x288 with 1 Axes>"
            ]
          },
          "metadata": {
            "tags": [],
            "needs_background": "light"
          }
        }
      ]
    },
    {
      "cell_type": "markdown",
      "metadata": {
        "id": "x2Scvoht-Hbt"
      },
      "source": [
        "**Preparing the Data :**"
      ]
    },
    {
      "cell_type": "code",
      "metadata": {
        "id": "7Z77pQGW-MNa"
      },
      "source": [
        "X = df.iloc[:, :-1].values  \r\n",
        "Y = df.iloc[:, 1].values  "
      ],
      "execution_count": 93,
      "outputs": []
    },
    {
      "cell_type": "markdown",
      "metadata": {
        "id": "cbZN4g91-dKL"
      },
      "source": [
        "**Splitting them into Training and Testing Sets:**"
      ]
    },
    {
      "cell_type": "code",
      "metadata": {
        "id": "FrHn4Zec-zkj"
      },
      "source": [
        "from sklearn.model_selection import train_test_split  \r\n",
        "X_train, X_test, Y_train, Y_test = train_test_split(X, Y, \r\n",
        "                            test_size=0.2, random_state=0)"
      ],
      "execution_count": 94,
      "outputs": []
    },
    {
      "cell_type": "markdown",
      "metadata": {
        "id": "CwfKosfc-3ea"
      },
      "source": [
        "**Training the Algorithm:**"
      ]
    },
    {
      "cell_type": "code",
      "metadata": {
        "id": "64Y8BIwu_MaS"
      },
      "source": [
        "from sklearn.linear_model import LinearRegression  "
      ],
      "execution_count": 95,
      "outputs": []
    },
    {
      "cell_type": "code",
      "metadata": {
        "colab": {
          "base_uri": "https://localhost:8080/"
        },
        "id": "ESPeioWkD7P5",
        "outputId": "563f5f7e-be60-4b94-d6e9-58ba51de55ab"
      },
      "source": [
        "model = LinearRegression()  \r\n",
        "model.fit(X_train, Y_train) \r\n",
        "\r\n",
        "print(\"Training complete.\")"
      ],
      "execution_count": 96,
      "outputs": [
        {
          "output_type": "stream",
          "text": [
            "Training complete.\n"
          ],
          "name": "stdout"
        }
      ]
    },
    {
      "cell_type": "markdown",
      "metadata": {
        "id": "6sCetD3H_TU6"
      },
      "source": [
        "**Plotting the Regression line:**"
      ]
    },
    {
      "cell_type": "code",
      "metadata": {
        "id": "4Am_WZgV_agK"
      },
      "source": [
        "line = model.coef_*X+model.intercept_"
      ],
      "execution_count": 97,
      "outputs": []
    },
    {
      "cell_type": "markdown",
      "metadata": {
        "id": "h_WurSeG_dpS"
      },
      "source": [
        "**Plotting for the Test Data:**"
      ]
    },
    {
      "cell_type": "code",
      "metadata": {
        "colab": {
          "base_uri": "https://localhost:8080/",
          "height": 265
        },
        "id": "eAe7-vE9_nT8",
        "outputId": "56dd380d-1c35-4ed0-ac70-ec4649b7359d"
      },
      "source": [
        "plt.scatter(X, Y, color = 'red')\r\n",
        "plt.plot(X, line);\r\n",
        "plt.show()"
      ],
      "execution_count": 99,
      "outputs": [
        {
          "output_type": "display_data",
          "data": {
            "image/png": "[encoded data removed]",
            "text/plain": [
              "<Figure size 432x288 with 1 Axes>"
            ]
          },
          "metadata": {
            "tags": [],
            "needs_background": "light"
          }
        }
      ]
    },
    {
      "cell_type": "markdown",
      "metadata": {
        "id": "Euo0UiKA_qrr"
      },
      "source": [
        "**Make Prediction:**"
      ]
    },
    {
      "cell_type": "code",
      "metadata": {
        "colab": {
          "base_uri": "https://localhost:8080/"
        },
        "id": "2QAJBCI1_uR_",
        "outputId": "25718544-efa0-4ee2-cfe7-58ee8c1f4f8b"
      },
      "source": [
        "print(X_test)\r\n",
        "Y_pred = model.predict(X_test)"
      ],
      "execution_count": 100,
      "outputs": [
        {
          "output_type": "stream",
          "text": [
            "[[1.5]\n",
            " [3.2]\n",
            " [7.4]\n",
            " [2.5]\n",
            " [5.9]]\n"
          ],
          "name": "stdout"
        }
      ]
    },
    {
      "cell_type": "markdown",
      "metadata": {
        "id": "KKSJgu4oALWK"
      },
      "source": [
        "**Comparing Actual vs Predicted:**"
      ]
    },
    {
      "cell_type": "code",
      "metadata": {
        "colab": {
          "base_uri": "https://localhost:8080/",
          "height": 206
        },
        "id": "_2AC9VQPAQdc",
        "outputId": "c6dfb1dd-9c03-45ec-af4a-b806c9e7817a"
      },
      "source": [
        "df1 = pd.DataFrame({'Actual': Y_test, 'Predicted': Y_pred})  \r\n",
        "df1"
      ],
      "execution_count": 101,
      "outputs": [
        {
          "output_type": "execute_result",
          "data": {
            "text/html": [
              "<div>\n",
              "<style scoped>\n",
              "    .dataframe tbody tr th:only-of-type {\n",
              "        vertical-align: middle;\n",
              "    }\n",
              "\n",
              "    .dataframe tbody tr th {\n",
              "        vertical-align: top;\n",
              "    }\n",
              "\n",
              "    .dataframe thead th {\n",
              "        text-align: right;\n",
              "    }\n",
              "</style>\n",
              "<table border=\"1\" class=\"dataframe\">\n",
              "  <thead>\n",
              "    <tr style=\"text-align: right;\">\n",
              "      <th></th>\n",
              "      <th>Actual</th>\n",
              "      <th>Predicted</th>\n",
              "    </tr>\n",
              "  </thead>\n",
              "  <tbody>\n",
              "    <tr>\n",
              "      <th>0</th>\n",
              "      <td>20</td>\n",
              "      <td>16.884145</td>\n",
              "    </tr>\n",
              "    <tr>\n",
              "      <th>1</th>\n",
              "      <td>27</td>\n",
              "      <td>33.732261</td>\n",
              "    </tr>\n",
              "    <tr>\n",
              "      <th>2</th>\n",
              "      <td>69</td>\n",
              "      <td>75.357018</td>\n",
              "    </tr>\n",
              "    <tr>\n",
              "      <th>3</th>\n",
              "      <td>30</td>\n",
              "      <td>26.794801</td>\n",
              "    </tr>\n",
              "    <tr>\n",
              "      <th>4</th>\n",
              "      <td>62</td>\n",
              "      <td>60.491033</td>\n",
              "    </tr>\n",
              "  </tbody>\n",
              "</table>\n",
              "</div>"
            ],
            "text/plain": [
              "   Actual  Predicted\n",
              "0      20  16.884145\n",
              "1      27  33.732261\n",
              "2      69  75.357018\n",
              "3      30  26.794801\n",
              "4      62  60.491033"
            ]
          },
          "metadata": {
            "tags": []
          },
          "execution_count": 101
        }
      ]
    },
    {
      "cell_type": "markdown",
      "metadata": {
        "id": "b6J9ZCm_ApjE"
      },
      "source": [
        "**Testing With Custom Data:**"
      ]
    },
    {
      "cell_type": "code",
      "metadata": {
        "colab": {
          "base_uri": "https://localhost:8080/"
        },
        "id": "OfJcZfP5AzIm",
        "outputId": "ace77b2d-2ac1-4a7e-e6c6-ca436b5faa85"
      },
      "source": [
        "hrs = [[7.5]]\r\n",
        "predict = model.predict(hrs)\r\n",
        "print(\"No of Hours = {}\".format(hrs))\r\n",
        "print(\"Predicted Score = {}\".format(predict[0]))"
      ],
      "execution_count": 104,
      "outputs": [
        {
          "output_type": "stream",
          "text": [
            "No of Hours = [[7.5]]\n",
            "Predicted Score = 76.34808364625147\n"
          ],
          "name": "stdout"
        }
      ]
    },
    {
      "cell_type": "markdown",
      "metadata": {
        "id": "8JVsQEtbIE1x"
      },
      "source": [
        "**Evaluating Model:**"
      ]
    },
    {
      "cell_type": "code",
      "metadata": {
        "colab": {
          "base_uri": "https://localhost:8080/"
        },
        "id": "s6FVzPnSIMeC",
        "outputId": "039553d1-4618-4695-c975-e6bb6e605066"
      },
      "source": [
        "from sklearn import metrics  \r\n",
        "print('Mean Absolute Error(MAE):', \r\n",
        "      metrics.mean_absolute_error(y_test, y_pred))"
      ],
      "execution_count": 105,
      "outputs": [
        {
          "output_type": "stream",
          "text": [
            "Mean Absolute Error: 4.183859899002982\n"
          ],
          "name": "stdout"
        }
      ]
    }
  ]
}